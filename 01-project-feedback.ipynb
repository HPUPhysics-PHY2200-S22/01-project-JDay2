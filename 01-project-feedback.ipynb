{
 "cells": [
  {
   "cell_type": "code",
   "execution_count": 2,
   "id": "cd6df9ab",
   "metadata": {},
   "outputs": [],
   "source": [
    "import numpy as np\n",
    "import matplotlib.pyplot as plt"
   ]
  },
  {
   "cell_type": "markdown",
   "id": "90fa464b",
   "metadata": {},
   "source": [
    "## Unit 01 Project\n",
    "\n",
    "The purpose of this \"mini project\" is to demonstrate that you can solve ODEs.\n",
    "\n",
    "We will refer to the system and the set of ODEs that describe the system as the *model*. Your project should:\n",
    "\n",
    "- describe relevant background theory for your model and use LaTeX to render mathematical notation. Cite any sources used.\n",
    "- explain assumptions used in your model.\n",
    "- import your `ode.py` file and use a numerical integrator such as `Euler`, `RK2`, and `RK4`.\n",
    "- explore the difference in the solutions, depending on the integrator used.\n",
    "- graph data and (if appropriate) animate motion to describe the results of the model.\n",
    "- choose questions to explore with your model and answer those questions.\n",
    "- discuss validation. What gives you confidence in your results? What happens to energy after many iterations (this gives you a sense of the error in your numerical solution)? How does the accuracy depend on your choice of time step $h$?\n",
    "\n",
    "\n",
    "<div class=\"alert alert-success\">\n",
    "The mini-project should be of sufficient quality to post to github in your portfolio of work that can be shown to a potential employer.\n",
    "</div>\n",
    "\n",
    "## Grading Rubric\n",
    "\n",
    "Category | Needs Improvement (60-75%) | Good (75% - 90%) | Excellent (90%-100%)\n",
    ":---: | :--- | :--- | :---\n",
    "**Narrative** | There is very little narrative. Background information is not present or lacks detail. There is no story woven with the code. Mathematical markup is not used. No citations are included. | There is a narrative, but significant parts are missing. The writing does not flow. Sections headings are sparse. Mathematical markup is poor or insufficient. More and better citations are needed. | There is flow, and a clear storyline. Section headings are used to provide an outline. Mathematical markup is used correctly and sufficiently to display mathematics. Citations are sufficient in number and quality.\n",
    "**Code** | Code is missing or is not functional. Nothing is done to demonstrate that the code is operating correctly. Code is difficult to read. Results are missing or seriously incomplete. Visualization is not included. Units are inconsistent or incorrect. Algorithm is implemented incorrectly or the wrong algorithm chosen. There is significant error. | Code is mostly correct and the implementation or algorithm is a good method to use. Visualization is present, but titles and axes labels need improvement or visualization can be improved. Code is understandable and somewhat commented. Units are mostly consistent and correct.| The code runs flawlessly and is well-organized. The code is easy to read and understand. Units are indicated, consistent, and correct. Visualization is excellent. Techniques and algorithms are well-chosen and correctly implemented. Results are clear and understandable.\n",
    "**Difficulty** | The difficulty level is not a good match to one's ability. The project is either too difficult or too simple. | The difficulty level is good match to one's ability. | The difficulty is a big challenge, considering one's ablity.\n",
    "\n",
    "Assigned grades will be approximations based on this rubric and assigned weights to each category. In an open-ended project like this, grades have a lot of uncertainty.\n"
   ]
  },
  {
   "cell_type": "markdown",
   "id": "d893b3c3",
   "metadata": {},
   "source": [
    "## Project 1\n",
    "\n",
    "### Feedback\n",
    "\n",
    "Here are my thoughts as I worked through your notebook:\n",
    "\n",
    "- I like your narrative. I also like that you experimented with large force.\n",
    "- You should have used the time step `h` in your update of momentum using the Euler method. Because `h=1`, it didn't affect your results, but what if one used a different value of `h`?\n",
    "- You only used the Euler method, and you didn't implement the integrators we wrote in class. I suggest using the RK4 method. It is important to demontrate that you can solve ODEs using higher-order integration methods.\n",
    "\n",
    "### Rubric Grades and Weights\n",
    "\n",
    "Category | Grade (%) | Weight (%)\n",
    "--- | --- | ---\n",
    "Narrative | 95 | 40\n",
    "Code | 75 | 40\n",
    "Difficulty | 90 | 20\n",
    "\n",
    "### Grade"
   ]
  },
  {
   "cell_type": "code",
   "execution_count": 3,
   "id": "07b78562",
   "metadata": {},
   "outputs": [
    {
     "name": "stdout",
     "output_type": "stream",
     "text": [
      "Weighted Average = 86\n"
     ]
    }
   ],
   "source": [
    "weights = np.array([0.4,0.4,0.2])\n",
    "grades = np.array([ 95, 75, 90])\n",
    "\n",
    "ave = np.dot(weights,grades)\n",
    "\n",
    "print(\"Weighted Average = {:.0f}\".format(ave))"
   ]
  },
  {
   "cell_type": "code",
   "execution_count": null,
   "id": "492ba2bc",
   "metadata": {},
   "outputs": [],
   "source": []
  }
 ],
 "metadata": {
  "kernelspec": {
   "display_name": "Python 3 (ipykernel)",
   "language": "python",
   "name": "python3"
  },
  "language_info": {
   "codemirror_mode": {
    "name": "ipython",
    "version": 3
   },
   "file_extension": ".py",
   "mimetype": "text/x-python",
   "name": "python",
   "nbconvert_exporter": "python",
   "pygments_lexer": "ipython3",
   "version": "3.9.7"
  }
 },
 "nbformat": 4,
 "nbformat_minor": 5
}
